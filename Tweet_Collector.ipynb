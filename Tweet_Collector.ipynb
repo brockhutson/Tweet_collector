{
 "cells": [
  {
   "cell_type": "code",
   "execution_count": 14,
   "metadata": {},
   "outputs": [],
   "source": [
    "from selenium import webdriver\n",
    "from selenium import webdriver \n",
    "from selenium.webdriver.chrome.options import Options\n",
    "chrome_options = Options()\n",
    "#chrome_options.add_argument(\"--disable-extensions\")\n",
    "#chrome_options.add_argument(\"--disable-gpu\")\n",
    "#chrome_options.add_argument(\"--no-sandbox) # linux only\n",
    "chrome_options.add_argument(\"--headless\")\n",
    "\n",
    "from bs4 import BeautifulSoup as bs\n",
    "import os\n",
    "import re\n",
    "import twitter_keys as tweet\n",
    "import time\n",
    "import pickle"
   ]
  },
  {
   "cell_type": "code",
   "execution_count": 4,
   "metadata": {},
   "outputs": [],
   "source": [
    "def pull_tweets(soup):\n",
    "    \"\"\"\n",
    "    Helper function that grabs tweets using BeautifulSoup\n",
    "    \"\"\"\n",
    "    results = soup.find('ul')\n",
    "    results = results.findAll('li')\n",
    "    return [tweet.text for tweet in results]"
   ]
  },
  {
   "cell_type": "markdown",
   "metadata": {},
   "source": [
    "You will need to create a seperate called 'twitter_keys.py' and save it int he same directory.\n",
    "\n",
    "In that file add two lines with your account information:\n",
    "\n",
    "account = 'twitter_handle'\n",
    "\n",
    "account_password = 'twitter_password'"
   ]
  },
  {
   "cell_type": "code",
   "execution_count": 12,
   "metadata": {},
   "outputs": [],
   "source": [
    "def tweet_collector(unsub):\n",
    "    chrome_path = r\"C:\\Programs\\Python\\Python37-32\\Scripts\\chromedriver_win32\\chromedriver.exe\"\n",
    "    driver = webdriver.Chrome(chrome_path, options=chrome_options)\n",
    "\n",
    "    URL = 'https://www.allmytweets.net/'\n",
    "    driver.get(URL)\n",
    "\n",
    "    driver.find_element_by_id('connect-btn').click()\n",
    "\n",
    "    username = driver.find_element_by_id(\"username_or_email\")\n",
    "    username.clear()\n",
    "    username.send_keys(tweet.account)\n",
    "\n",
    "    password = driver.find_element_by_id(\"password\")\n",
    "    password.clear()\n",
    "    password.send_keys(tweet.account_password)\n",
    "\n",
    "    driver.find_element_by_id('allow').click()\n",
    "\n",
    "    twitter_user = driver.find_element_by_id('input-name')\n",
    "    twitter_user.clear()\n",
    "    twitter_user.send_keys(unsub)\n",
    "\n",
    "    driver.find_element_by_id('load-user-btn').click()\n",
    "\n",
    "    driver.implicitly_wait(10)\n",
    "    time.sleep(5)\n",
    "\n",
    "    try:\n",
    "        driver.find_element_by_id('tweets-btn').click()\n",
    "    except: \n",
    "        driver.find_element_by_id('tweets-btn').click()\n",
    "    \n",
    "    time.sleep(5)\n",
    "    \n",
    "    soup = bs(driver.page_source, 'lxml')\n",
    "\n",
    "    \n",
    "    tweet_list = pull_tweets(soup)\n",
    "    \n",
    "    total_tweets = None\n",
    "    try:\n",
    "        total_tweets = soup.find(id='load-status').text\n",
    "        if len(total_tweets) > 1:\n",
    "            total_tweets = re.findall('[\\d]+', total_tweets)[0]\n",
    "        else:\n",
    "            total_tweets = 'Number of tweets not found'\n",
    "    except:\n",
    "        time.sleep(10)\n",
    "        total_tweets = soup.find(id='load-status').text\n",
    "        if len(total_tweets) > 1:\n",
    "            total_tweets = re.findall('[\\d]+', total_tweets)[0]\n",
    "        else:\n",
    "            total_tweets = 'Number of tweets not found'\n",
    "\n",
    "    try:\n",
    "        driver.quit()\n",
    "    except:\n",
    "        driver.close()\n",
    "    \n",
    "    if total_tweets != None:\n",
    "        print('User: {} \\nExpected tweets: {}\\nTweets Collected: {}\\n'.format(unsub, total_tweets, len(tweet_list)))\n",
    "        \n",
    "    return tweet_list"
   ]
  },
  {
   "cell_type": "markdown",
   "metadata": {},
   "source": [
    "Insert Twitter Handle in list 'unsubs' below"
   ]
  },
  {
   "cell_type": "code",
   "execution_count": 13,
   "metadata": {},
   "outputs": [],
   "source": [
    "unsubs = []"
   ]
  },
  {
   "cell_type": "code",
   "execution_count": 10,
   "metadata": {},
   "outputs": [],
   "source": [
    "def update_tweet_dict(unsubs):\n",
    "    \"\"\"\n",
    "    Creates a dictionary with twitter handles as keys and tweets and values\n",
    "    \"\"\"\n",
    "    tweet_dict = {}\n",
    "    for user in unsubs:\n",
    "        if user not in tweet_dict.keys() or tweet_dict[user] == []:\n",
    "            tweets = tweet_collector(user)\n",
    "            tweet_dict[user] = tweets\n",
    "        else:\n",
    "            continue\n",
    "    return tweet_dict"
   ]
  }
 ],
 "metadata": {
  "kernelspec": {
   "display_name": "Python 3",
   "language": "python",
   "name": "python3"
  },
  "language_info": {
   "codemirror_mode": {
    "name": "ipython",
    "version": 3
   },
   "file_extension": ".py",
   "mimetype": "text/x-python",
   "name": "python",
   "nbconvert_exporter": "python",
   "pygments_lexer": "ipython3",
   "version": "3.7.1"
  }
 },
 "nbformat": 4,
 "nbformat_minor": 4
}
